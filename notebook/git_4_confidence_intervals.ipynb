{
 "cells": [
  {
   "cell_type": "markdown",
   "id": "4219851e-55d3-4e60-8ede-eebd0844bc5b",
   "metadata": {},
   "source": [
    "# Confidence Intervals"
   ]
  },
  {
   "cell_type": "markdown",
   "id": "87a8b695-3b1e-404b-b266-f87e9833db2a",
   "metadata": {},
   "source": [
    "## Related files:\n",
    "- dc_bikes_clean.csv"
   ]
  },
  {
   "cell_type": "markdown",
   "id": "70bab8db-f8c2-4a38-b5b8-b3e902636ec4",
   "metadata": {},
   "source": [
    "## Import package"
   ]
  },
  {
   "cell_type": "code",
   "execution_count": 1,
   "id": "8175e41b-105f-4e58-81fc-668765485daf",
   "metadata": {},
   "outputs": [],
   "source": [
    "import numpy as np\n",
    "import matplotlib.pyplot as plt\n",
    "import seaborn as sns\n",
    "import pandas as pd"
   ]
  },
  {
   "cell_type": "code",
   "execution_count": 2,
   "id": "55ab4728-5200-4775-8414-0e7df67da716",
   "metadata": {},
   "outputs": [
    {
     "data": {
      "text/html": [
       "<div>\n",
       "<style scoped>\n",
       "    .dataframe tbody tr th:only-of-type {\n",
       "        vertical-align: middle;\n",
       "    }\n",
       "\n",
       "    .dataframe tbody tr th {\n",
       "        vertical-align: top;\n",
       "    }\n",
       "\n",
       "    .dataframe thead th {\n",
       "        text-align: right;\n",
       "    }\n",
       "</style>\n",
       "<table border=\"1\" class=\"dataframe\">\n",
       "  <thead>\n",
       "    <tr style=\"text-align: right;\">\n",
       "      <th></th>\n",
       "      <th>season</th>\n",
       "      <th>holiday</th>\n",
       "      <th>workingday</th>\n",
       "      <th>weather</th>\n",
       "      <th>temp</th>\n",
       "      <th>atemp</th>\n",
       "      <th>humidity</th>\n",
       "      <th>windspeed</th>\n",
       "      <th>casual</th>\n",
       "      <th>registered</th>\n",
       "      <th>count</th>\n",
       "      <th>year</th>\n",
       "      <th>quarter</th>\n",
       "      <th>month</th>\n",
       "      <th>day</th>\n",
       "      <th>day_name</th>\n",
       "      <th>hour</th>\n",
       "      <th>minute</th>\n",
       "      <th>part_of_the_day</th>\n",
       "    </tr>\n",
       "    <tr>\n",
       "      <th>datetime</th>\n",
       "      <th></th>\n",
       "      <th></th>\n",
       "      <th></th>\n",
       "      <th></th>\n",
       "      <th></th>\n",
       "      <th></th>\n",
       "      <th></th>\n",
       "      <th></th>\n",
       "      <th></th>\n",
       "      <th></th>\n",
       "      <th></th>\n",
       "      <th></th>\n",
       "      <th></th>\n",
       "      <th></th>\n",
       "      <th></th>\n",
       "      <th></th>\n",
       "      <th></th>\n",
       "      <th></th>\n",
       "      <th></th>\n",
       "    </tr>\n",
       "  </thead>\n",
       "  <tbody>\n",
       "    <tr>\n",
       "      <th>2011-01-01 00:00:00</th>\n",
       "      <td>1</td>\n",
       "      <td>0</td>\n",
       "      <td>0</td>\n",
       "      <td>1</td>\n",
       "      <td>9.84</td>\n",
       "      <td>14.395</td>\n",
       "      <td>81</td>\n",
       "      <td>0.0</td>\n",
       "      <td>3.0</td>\n",
       "      <td>13.0</td>\n",
       "      <td>16</td>\n",
       "      <td>2011</td>\n",
       "      <td>1</td>\n",
       "      <td>1</td>\n",
       "      <td>1</td>\n",
       "      <td>Saturday</td>\n",
       "      <td>0</td>\n",
       "      <td>0</td>\n",
       "      <td>night</td>\n",
       "    </tr>\n",
       "    <tr>\n",
       "      <th>2011-01-01 01:00:00</th>\n",
       "      <td>1</td>\n",
       "      <td>0</td>\n",
       "      <td>0</td>\n",
       "      <td>1</td>\n",
       "      <td>9.02</td>\n",
       "      <td>13.635</td>\n",
       "      <td>80</td>\n",
       "      <td>0.0</td>\n",
       "      <td>8.0</td>\n",
       "      <td>32.0</td>\n",
       "      <td>40</td>\n",
       "      <td>2011</td>\n",
       "      <td>1</td>\n",
       "      <td>1</td>\n",
       "      <td>1</td>\n",
       "      <td>Saturday</td>\n",
       "      <td>1</td>\n",
       "      <td>0</td>\n",
       "      <td>night</td>\n",
       "    </tr>\n",
       "    <tr>\n",
       "      <th>2011-01-01 02:00:00</th>\n",
       "      <td>1</td>\n",
       "      <td>0</td>\n",
       "      <td>0</td>\n",
       "      <td>1</td>\n",
       "      <td>9.02</td>\n",
       "      <td>13.635</td>\n",
       "      <td>80</td>\n",
       "      <td>0.0</td>\n",
       "      <td>5.0</td>\n",
       "      <td>27.0</td>\n",
       "      <td>32</td>\n",
       "      <td>2011</td>\n",
       "      <td>1</td>\n",
       "      <td>1</td>\n",
       "      <td>1</td>\n",
       "      <td>Saturday</td>\n",
       "      <td>2</td>\n",
       "      <td>0</td>\n",
       "      <td>night</td>\n",
       "    </tr>\n",
       "  </tbody>\n",
       "</table>\n",
       "</div>"
      ],
      "text/plain": [
       "                     season  holiday  workingday  weather  temp   atemp  \\\n",
       "datetime                                                                  \n",
       "2011-01-01 00:00:00       1        0           0        1  9.84  14.395   \n",
       "2011-01-01 01:00:00       1        0           0        1  9.02  13.635   \n",
       "2011-01-01 02:00:00       1        0           0        1  9.02  13.635   \n",
       "\n",
       "                     humidity  windspeed  casual  registered  count  year  \\\n",
       "datetime                                                                    \n",
       "2011-01-01 00:00:00        81        0.0     3.0        13.0     16  2011   \n",
       "2011-01-01 01:00:00        80        0.0     8.0        32.0     40  2011   \n",
       "2011-01-01 02:00:00        80        0.0     5.0        27.0     32  2011   \n",
       "\n",
       "                     quarter  month  day  day_name  hour  minute  \\\n",
       "datetime                                                           \n",
       "2011-01-01 00:00:00        1      1    1  Saturday     0       0   \n",
       "2011-01-01 01:00:00        1      1    1  Saturday     1       0   \n",
       "2011-01-01 02:00:00        1      1    1  Saturday     2       0   \n",
       "\n",
       "                    part_of_the_day  \n",
       "datetime                             \n",
       "2011-01-01 00:00:00           night  \n",
       "2011-01-01 01:00:00           night  \n",
       "2011-01-01 02:00:00           night  "
      ]
     },
     "execution_count": 2,
     "metadata": {},
     "output_type": "execute_result"
    }
   ],
   "source": [
    "# read csv\n",
    "df = pd.read_csv('../data/dc_bikes_clean.csv', parse_dates = True, index_col = 0)\n",
    "df.head(3)"
   ]
  },
  {
   "cell_type": "code",
   "execution_count": 33,
   "id": "cbf7d950-e8fa-45bc-b48f-afaa0eeb0166",
   "metadata": {},
   "outputs": [
    {
     "data": {
      "text/plain": [
       "4    3\n",
       "Name: weather, dtype: int64"
      ]
     },
     "execution_count": 33,
     "metadata": {},
     "output_type": "execute_result"
    }
   ],
   "source": [
    "df_subset = df[df['weather'] == 4]\n",
    "df_subset['weather'].value_counts()"
   ]
  },
  {
   "cell_type": "code",
   "execution_count": null,
   "id": "e4079f23-0c57-4663-84f9-64551ba30470",
   "metadata": {},
   "outputs": [],
   "source": []
  },
  {
   "cell_type": "markdown",
   "id": "1a2a386e-20f1-4b8e-ac83-d23856db4613",
   "metadata": {},
   "source": [
    "## For the bikes data set, calculate the 95% confidence intervals for the mean of the windspeed feature using bootstrapping. Create a notebook in which following questions shall be solved:"
   ]
  },
  {
   "cell_type": "markdown",
   "id": "0216b729-a084-46d2-8eee-b40a84179b88",
   "metadata": {},
   "source": [
    "### 1. Initialize empty list called `sample_means()`"
   ]
  },
  {
   "cell_type": "code",
   "execution_count": 3,
   "id": "0ba47c92-f77c-4736-8789-7627cc643cac",
   "metadata": {},
   "outputs": [],
   "source": [
    "sample_means = []"
   ]
  },
  {
   "cell_type": "markdown",
   "id": "b0d9514e-558d-46e3-862c-cc1807ee37a4",
   "metadata": {},
   "source": [
    "### 2. Create a `for loop` that will loop 10,000 times"
   ]
  },
  {
   "cell_type": "markdown",
   "id": "7296c8d1-a6d4-4a7c-bbee-7483955f7636",
   "metadata": {},
   "source": [
    "### 3. In each iteration using the pandas method `.sample()` sample 100 windspeeds with replacement"
   ]
  },
  {
   "cell_type": "markdown",
   "id": "eebcd9c6-f2bc-43bb-a84d-974c9a40b80c",
   "metadata": {
    "tags": []
   },
   "source": [
    "### 4. Also in that same iteration take the mean of these 100 samples and then append it to the `sample_means` list"
   ]
  },
  {
   "cell_type": "code",
   "execution_count": 4,
   "id": "a7f43dc9-3b84-4143-a304-965b6c099023",
   "metadata": {},
   "outputs": [],
   "source": [
    "windspeed_sample = df['windspeed']\n",
    "windspeed_sample\n",
    "\n",
    "for _ in range(10_000):\n",
    "    bootstrap_sample = windspeed_sample.sample(n = 100, replace='True')\n",
    "    sample_means += [bootstrap_sample.mean()]\n",
    "    # sample_means.append(bootstrap_sample.mean()) # alternatively, .append() also works"
   ]
  },
  {
   "cell_type": "markdown",
   "id": "fc2efdc9-9eb5-46a9-913c-6acdeea13ded",
   "metadata": {
    "tags": []
   },
   "source": [
    "### 5. Using `sns.displot` plot the distribution of the `sample_means` list"
   ]
  },
  {
   "cell_type": "code",
   "execution_count": 5,
   "id": "0d2e8857-0784-4ea2-b25f-a82aef4f5b72",
   "metadata": {},
   "outputs": [
    {
     "data": {
      "image/png": "[encoded data removed]",
      "text/plain": [
       "<Figure size 360x360 with 1 Axes>"
      ]
     },
     "metadata": {
      "needs_background": "light"
     },
     "output_type": "display_data"
    }
   ],
   "source": [
    "sns.displot(sample_means, kde = True);"
   ]
  },
  {
   "cell_type": "markdown",
   "id": "405e5e54-3a00-4051-b9d7-fe3728765cf6",
   "metadata": {},
   "source": [
    "### 6. Convert `sample_means` list to pandas `Series`"
   ]
  },
  {
   "cell_type": "code",
   "execution_count": 12,
   "id": "1117162a-0b4d-4b53-8d1a-ca14a1441193",
   "metadata": {},
   "outputs": [
    {
     "data": {
      "text/plain": [
       "0       13.520064\n",
       "1       12.180399\n",
       "2       11.840240\n",
       "3       13.579828\n",
       "4       13.350420\n",
       "          ...    \n",
       "9995    12.360227\n",
       "9996    14.140484\n",
       "9997    12.490341\n",
       "9998    12.390310\n",
       "9999    12.790434\n",
       "Length: 10000, dtype: float64"
      ]
     },
     "execution_count": 12,
     "metadata": {},
     "output_type": "execute_result"
    }
   ],
   "source": [
    "sample_means = pd.Series(sample_means)\n",
    "sample_means"
   ]
  },
  {
   "cell_type": "markdown",
   "id": "30a627b9-6906-48e5-977a-d0b83c9501c4",
   "metadata": {},
   "source": [
    "### 7. Using pandas `.quantile()` calculation the upper (0.975) and lower (0.025) limits of the confidence interval of the sample_means list\n"
   ]
  },
  {
   "cell_type": "code",
   "execution_count": 7,
   "id": "bdde0e70-0e42-455f-ac08-461139385b9c",
   "metadata": {},
   "outputs": [
    {
     "name": "stdout",
     "output_type": "stream",
     "text": [
      "0.95 0.025000000000000022 0.975\n",
      "The confidence interval of the average windspeed is between 11.140492000000005 and 14.360378000000003\n"
     ]
    }
   ],
   "source": [
    "# defining confidence intervals\n",
    "alpha = 0.95\n",
    "lower_quantile = (1-alpha)/2\n",
    "upper_quantile = alpha + lower_quantile\n",
    "print(alpha, lower_quantile, upper_quantile)\n",
    "\n",
    "\n",
    "# calculating the sample's lower and upper limit\n",
    "lower_limit = sample_means.quantile(lower_quantile)\n",
    "upper_limit = sample_means.quantile(upper_quantile)\n",
    "print(f'The confidence interval of the average windspeed is between {lower_limit} and {upper_limit}')"
   ]
  },
  {
   "cell_type": "markdown",
   "id": "de0dc6a0-5319-469f-8791-4d71cfd47ddb",
   "metadata": {},
   "source": [
    "---\n",
    "## Bonus"
   ]
  },
  {
   "cell_type": "markdown",
   "id": "ed5dcbda-cf69-4aeb-9703-26f217689b71",
   "metadata": {},
   "source": [
    "### 8. Calculate using the `z-value` formula"
   ]
  },
  {
   "cell_type": "code",
   "execution_count": 8,
   "id": "71c3ee11-259d-4ae3-965c-b8e7e3715a27",
   "metadata": {},
   "outputs": [
    {
     "name": "stdout",
     "output_type": "stream",
     "text": [
      "12.736539622533575 8.196795314377253\n"
     ]
    }
   ],
   "source": [
    "# calculate mean of windspeed:\n",
    "sample_mean = windspeed_sample.mean()\n",
    "\n",
    "# calculate std:\n",
    "sample_std = windspeed_sample.std()\n",
    "\n",
    "print(sample_mean, sample_std)"
   ]
  },
  {
   "cell_type": "code",
   "execution_count": 9,
   "id": "2575936b-1006-4269-ba20-04f4339aeba7",
   "metadata": {},
   "outputs": [
    {
     "name": "stdout",
     "output_type": "stream",
     "text": [
      "The confidence interval of the average sepal length of iris setosa is between 11.129967740915633 and 14.343111504151517\n"
     ]
    }
   ],
   "source": [
    "# alpha = 0.95, then z = 1.96 and n=100\n",
    "\n",
    "z = 1.96\n",
    "n = 100\n",
    "\n",
    "lower_limit_eq = sample_mean - z * (sample_std / np.sqrt(n))\n",
    "upper_limit_eq = sample_mean + z * (sample_std / np.sqrt(n))\n",
    "\n",
    "print(f'The confidence interval of the average sepal length of iris setosa is between {lower_limit_eq} and {upper_limit_eq}')\n",
    "    # We are 95% confient that the true mean lies between the lower and upper limit"
   ]
  },
  {
   "cell_type": "markdown",
   "id": "4e0356e7-e975-45a9-b1c0-75b872561dbf",
   "metadata": {},
   "source": [
    "### 9. Compare to the results of the bootstrapping method"
   ]
  },
  {
   "cell_type": "code",
   "execution_count": 10,
   "id": "4d575f67-202a-4ce6-af67-7dd846a286f7",
   "metadata": {},
   "outputs": [
    {
     "name": "stdout",
     "output_type": "stream",
     "text": [
      "The confidence interval of the average sepal length of iris setosa is between 11.140492000000005 and 14.360378000000003\n"
     ]
    }
   ],
   "source": [
    "## compare both methods results\n",
    "\n",
    "print(f'The confidence interval of the average sepal length of iris setosa is between {lower_limit} and {upper_limit}')"
   ]
  },
  {
   "cell_type": "markdown",
   "id": "3faaf655-6b22-46cf-a979-d087b89e8718",
   "metadata": {},
   "source": [
    "---"
   ]
  },
  {
   "cell_type": "markdown",
   "id": "ac972ed6-c05d-428f-b55b-1d4006323b97",
   "metadata": {},
   "source": [
    "## Additional Analysis"
   ]
  },
  {
   "cell_type": "code",
   "execution_count": 34,
   "id": "51f54c26-8b1a-49a5-861b-c566a6352544",
   "metadata": {},
   "outputs": [
    {
     "data": {
      "text/html": [
       "<div>\n",
       "<style scoped>\n",
       "    .dataframe tbody tr th:only-of-type {\n",
       "        vertical-align: middle;\n",
       "    }\n",
       "\n",
       "    .dataframe tbody tr th {\n",
       "        vertical-align: top;\n",
       "    }\n",
       "\n",
       "    .dataframe thead th {\n",
       "        text-align: right;\n",
       "    }\n",
       "</style>\n",
       "<table border=\"1\" class=\"dataframe\">\n",
       "  <thead>\n",
       "    <tr style=\"text-align: right;\">\n",
       "      <th></th>\n",
       "      <th>season</th>\n",
       "      <th>holiday</th>\n",
       "      <th>workingday</th>\n",
       "      <th>weather</th>\n",
       "      <th>temp</th>\n",
       "      <th>atemp</th>\n",
       "      <th>humidity</th>\n",
       "      <th>windspeed</th>\n",
       "      <th>casual</th>\n",
       "      <th>registered</th>\n",
       "      <th>count</th>\n",
       "      <th>year</th>\n",
       "      <th>quarter</th>\n",
       "      <th>month</th>\n",
       "      <th>day</th>\n",
       "      <th>hour</th>\n",
       "      <th>minute</th>\n",
       "    </tr>\n",
       "  </thead>\n",
       "  <tbody>\n",
       "    <tr>\n",
       "      <th>count</th>\n",
       "      <td>17379.000000</td>\n",
       "      <td>17379.000000</td>\n",
       "      <td>17379.000000</td>\n",
       "      <td>17379.000000</td>\n",
       "      <td>17379.000000</td>\n",
       "      <td>17379.000000</td>\n",
       "      <td>17379.000000</td>\n",
       "      <td>17379.000000</td>\n",
       "      <td>10886.000000</td>\n",
       "      <td>10886.000000</td>\n",
       "      <td>17379.000000</td>\n",
       "      <td>17379.000000</td>\n",
       "      <td>17379.000000</td>\n",
       "      <td>17379.000000</td>\n",
       "      <td>17379.000000</td>\n",
       "      <td>17379.000000</td>\n",
       "      <td>17379.0</td>\n",
       "    </tr>\n",
       "    <tr>\n",
       "      <th>mean</th>\n",
       "      <td>2.501640</td>\n",
       "      <td>0.028770</td>\n",
       "      <td>0.682721</td>\n",
       "      <td>1.425283</td>\n",
       "      <td>20.376474</td>\n",
       "      <td>23.788755</td>\n",
       "      <td>62.722884</td>\n",
       "      <td>12.736540</td>\n",
       "      <td>36.021955</td>\n",
       "      <td>155.552177</td>\n",
       "      <td>188.612693</td>\n",
       "      <td>2011.502561</td>\n",
       "      <td>2.512055</td>\n",
       "      <td>6.537775</td>\n",
       "      <td>15.683411</td>\n",
       "      <td>11.546752</td>\n",
       "      <td>0.0</td>\n",
       "    </tr>\n",
       "    <tr>\n",
       "      <th>std</th>\n",
       "      <td>1.106918</td>\n",
       "      <td>0.167165</td>\n",
       "      <td>0.465431</td>\n",
       "      <td>0.639357</td>\n",
       "      <td>7.894801</td>\n",
       "      <td>8.592511</td>\n",
       "      <td>19.292983</td>\n",
       "      <td>8.196795</td>\n",
       "      <td>49.960477</td>\n",
       "      <td>151.039033</td>\n",
       "      <td>177.615724</td>\n",
       "      <td>0.500008</td>\n",
       "      <td>1.114108</td>\n",
       "      <td>3.438776</td>\n",
       "      <td>8.789373</td>\n",
       "      <td>6.914405</td>\n",
       "      <td>0.0</td>\n",
       "    </tr>\n",
       "    <tr>\n",
       "      <th>min</th>\n",
       "      <td>1.000000</td>\n",
       "      <td>0.000000</td>\n",
       "      <td>0.000000</td>\n",
       "      <td>1.000000</td>\n",
       "      <td>0.820000</td>\n",
       "      <td>0.000000</td>\n",
       "      <td>0.000000</td>\n",
       "      <td>0.000000</td>\n",
       "      <td>0.000000</td>\n",
       "      <td>0.000000</td>\n",
       "      <td>1.000000</td>\n",
       "      <td>2011.000000</td>\n",
       "      <td>1.000000</td>\n",
       "      <td>1.000000</td>\n",
       "      <td>1.000000</td>\n",
       "      <td>0.000000</td>\n",
       "      <td>0.0</td>\n",
       "    </tr>\n",
       "    <tr>\n",
       "      <th>25%</th>\n",
       "      <td>2.000000</td>\n",
       "      <td>0.000000</td>\n",
       "      <td>0.000000</td>\n",
       "      <td>1.000000</td>\n",
       "      <td>13.940000</td>\n",
       "      <td>16.665000</td>\n",
       "      <td>48.000000</td>\n",
       "      <td>7.001500</td>\n",
       "      <td>4.000000</td>\n",
       "      <td>36.000000</td>\n",
       "      <td>42.000000</td>\n",
       "      <td>2011.000000</td>\n",
       "      <td>2.000000</td>\n",
       "      <td>4.000000</td>\n",
       "      <td>8.000000</td>\n",
       "      <td>6.000000</td>\n",
       "      <td>0.0</td>\n",
       "    </tr>\n",
       "    <tr>\n",
       "      <th>50%</th>\n",
       "      <td>3.000000</td>\n",
       "      <td>0.000000</td>\n",
       "      <td>1.000000</td>\n",
       "      <td>1.000000</td>\n",
       "      <td>20.500000</td>\n",
       "      <td>24.240000</td>\n",
       "      <td>63.000000</td>\n",
       "      <td>12.998000</td>\n",
       "      <td>17.000000</td>\n",
       "      <td>118.000000</td>\n",
       "      <td>143.000000</td>\n",
       "      <td>2012.000000</td>\n",
       "      <td>3.000000</td>\n",
       "      <td>7.000000</td>\n",
       "      <td>16.000000</td>\n",
       "      <td>12.000000</td>\n",
       "      <td>0.0</td>\n",
       "    </tr>\n",
       "    <tr>\n",
       "      <th>75%</th>\n",
       "      <td>3.000000</td>\n",
       "      <td>0.000000</td>\n",
       "      <td>1.000000</td>\n",
       "      <td>2.000000</td>\n",
       "      <td>27.060000</td>\n",
       "      <td>31.060000</td>\n",
       "      <td>78.000000</td>\n",
       "      <td>16.997900</td>\n",
       "      <td>49.000000</td>\n",
       "      <td>222.000000</td>\n",
       "      <td>279.000000</td>\n",
       "      <td>2012.000000</td>\n",
       "      <td>4.000000</td>\n",
       "      <td>10.000000</td>\n",
       "      <td>23.000000</td>\n",
       "      <td>18.000000</td>\n",
       "      <td>0.0</td>\n",
       "    </tr>\n",
       "    <tr>\n",
       "      <th>max</th>\n",
       "      <td>4.000000</td>\n",
       "      <td>1.000000</td>\n",
       "      <td>1.000000</td>\n",
       "      <td>4.000000</td>\n",
       "      <td>41.000000</td>\n",
       "      <td>50.000000</td>\n",
       "      <td>100.000000</td>\n",
       "      <td>56.996900</td>\n",
       "      <td>367.000000</td>\n",
       "      <td>886.000000</td>\n",
       "      <td>1053.000000</td>\n",
       "      <td>2012.000000</td>\n",
       "      <td>4.000000</td>\n",
       "      <td>12.000000</td>\n",
       "      <td>31.000000</td>\n",
       "      <td>23.000000</td>\n",
       "      <td>0.0</td>\n",
       "    </tr>\n",
       "  </tbody>\n",
       "</table>\n",
       "</div>"
      ],
      "text/plain": [
       "             season       holiday    workingday       weather          temp  \\\n",
       "count  17379.000000  17379.000000  17379.000000  17379.000000  17379.000000   \n",
       "mean       2.501640      0.028770      0.682721      1.425283     20.376474   \n",
       "std        1.106918      0.167165      0.465431      0.639357      7.894801   \n",
       "min        1.000000      0.000000      0.000000      1.000000      0.820000   \n",
       "25%        2.000000      0.000000      0.000000      1.000000     13.940000   \n",
       "50%        3.000000      0.000000      1.000000      1.000000     20.500000   \n",
       "75%        3.000000      0.000000      1.000000      2.000000     27.060000   \n",
       "max        4.000000      1.000000      1.000000      4.000000     41.000000   \n",
       "\n",
       "              atemp      humidity     windspeed        casual    registered  \\\n",
       "count  17379.000000  17379.000000  17379.000000  10886.000000  10886.000000   \n",
       "mean      23.788755     62.722884     12.736540     36.021955    155.552177   \n",
       "std        8.592511     19.292983      8.196795     49.960477    151.039033   \n",
       "min        0.000000      0.000000      0.000000      0.000000      0.000000   \n",
       "25%       16.665000     48.000000      7.001500      4.000000     36.000000   \n",
       "50%       24.240000     63.000000     12.998000     17.000000    118.000000   \n",
       "75%       31.060000     78.000000     16.997900     49.000000    222.000000   \n",
       "max       50.000000    100.000000     56.996900    367.000000    886.000000   \n",
       "\n",
       "              count          year       quarter         month           day  \\\n",
       "count  17379.000000  17379.000000  17379.000000  17379.000000  17379.000000   \n",
       "mean     188.612693   2011.502561      2.512055      6.537775     15.683411   \n",
       "std      177.615724      0.500008      1.114108      3.438776      8.789373   \n",
       "min        1.000000   2011.000000      1.000000      1.000000      1.000000   \n",
       "25%       42.000000   2011.000000      2.000000      4.000000      8.000000   \n",
       "50%      143.000000   2012.000000      3.000000      7.000000     16.000000   \n",
       "75%      279.000000   2012.000000      4.000000     10.000000     23.000000   \n",
       "max     1053.000000   2012.000000      4.000000     12.000000     31.000000   \n",
       "\n",
       "               hour   minute  \n",
       "count  17379.000000  17379.0  \n",
       "mean      11.546752      0.0  \n",
       "std        6.914405      0.0  \n",
       "min        0.000000      0.0  \n",
       "25%        6.000000      0.0  \n",
       "50%       12.000000      0.0  \n",
       "75%       18.000000      0.0  \n",
       "max       23.000000      0.0  "
      ]
     },
     "execution_count": 34,
     "metadata": {},
     "output_type": "execute_result"
    }
   ],
   "source": [
    "df.describe()"
   ]
  },
  {
   "cell_type": "markdown",
   "id": "d9a4f399-3d91-4dd4-8aa5-5f1d66e0f6f2",
   "metadata": {},
   "source": [
    "with n = 1000"
   ]
  },
  {
   "cell_type": "markdown",
   "id": "5390e5dc-3fcd-4494-a439-ff69163e3d05",
   "metadata": {},
   "source": [
    "#### CI for TEMP"
   ]
  },
  {
   "cell_type": "code",
   "execution_count": 21,
   "id": "85026928-1d11-422c-a213-5d679ee3caa6",
   "metadata": {},
   "outputs": [
    {
     "name": "stdout",
     "output_type": "stream",
     "text": [
      "20.3764739052879 7.894800971238327\n",
      "The confidence interval of the average temp is between 19.887149071528576 and 20.86579873904722\n"
     ]
    }
   ],
   "source": [
    "# create subset\n",
    "temp_sample = df['temp']\n",
    "temp_sample\n",
    "\n",
    "# calculate mean of temp:\n",
    "sample_mean = temp_sample.mean()\n",
    "\n",
    "# calculate std:\n",
    "sample_std = temp_sample.std()\n",
    "\n",
    "print(sample_mean, sample_std)\n",
    "\n",
    "# alpha = 0.95, then z = 1.96 and n=1000\n",
    "\n",
    "z = 1.96\n",
    "n = 1000\n",
    "\n",
    "lower_limit_eq = sample_mean - z * (sample_std / np.sqrt(n))\n",
    "upper_limit_eq = sample_mean + z * (sample_std / np.sqrt(n))\n",
    "\n",
    "print(f'The confidence interval of the average temp is between {lower_limit_eq} and {upper_limit_eq}')\n",
    "    # We are 95% confient that the true mean lies between the lower and upper limit"
   ]
  },
  {
   "cell_type": "markdown",
   "id": "a4e74334-f8bf-41f1-812f-5ae7a7f0ef2c",
   "metadata": {},
   "source": [
    "#### CI for COUNT"
   ]
  },
  {
   "cell_type": "code",
   "execution_count": 20,
   "id": "0ba3e65f-8ed2-492c-a90b-fef473bc4079",
   "metadata": {},
   "outputs": [
    {
     "name": "stdout",
     "output_type": "stream",
     "text": [
      "188.61269348063755 177.61572359005345\n",
      "The confidence interval of the average count is between 177.60395687848958 and 199.6214300827855\n"
     ]
    }
   ],
   "source": [
    "# create subset\n",
    "count_sample = df['count']\n",
    "count_sample\n",
    "\n",
    "# calculate mean of count:\n",
    "sample_mean = count_sample.mean()\n",
    "\n",
    "# calculate std:\n",
    "sample_std = count_sample.std()\n",
    "\n",
    "print(sample_mean, sample_std)\n",
    "\n",
    "# alpha = 0.95, then z = 1.96 and n=1000\n",
    "\n",
    "z = 1.96\n",
    "n = 1000\n",
    "\n",
    "lower_limit_eq = sample_mean - z * (sample_std / np.sqrt(n))\n",
    "upper_limit_eq = sample_mean + z * (sample_std / np.sqrt(n))\n",
    "\n",
    "print(f'The confidence interval of the average count is between {lower_limit_eq} and {upper_limit_eq}')\n",
    "    # We are 95% confient that the true mean lies between the lower and upper limit"
   ]
  },
  {
   "cell_type": "markdown",
   "id": "3711ca7f-e8a3-4ccb-b53c-78aa5f2fa8fe",
   "metadata": {},
   "source": [
    "#### CI for WEATHER"
   ]
  },
  {
   "cell_type": "code",
   "execution_count": 22,
   "id": "68b9d49d-3dde-4da4-a71f-eb7219425b9e",
   "metadata": {},
   "outputs": [
    {
     "name": "stdout",
     "output_type": "stream",
     "text": [
      "1.425283387997008 0.6393568777543036\n",
      "The confidence interval of the average weather is between 1.3856556381576182 and 1.4649111378363977\n"
     ]
    }
   ],
   "source": [
    "# create subset\n",
    "weather_sample = df['weather']\n",
    "weather_sample\n",
    "\n",
    "# calculate mean of weather:\n",
    "sample_mean = weather_sample.mean()\n",
    "\n",
    "# calculate std:\n",
    "sample_std = weather_sample.std()\n",
    "\n",
    "print(sample_mean, sample_std)\n",
    "\n",
    "# alpha = 0.95, then z = 1.96 and n=1000\n",
    "\n",
    "z = 1.96\n",
    "n = 1000\n",
    "\n",
    "lower_limit_eq = sample_mean - z * (sample_std / np.sqrt(n))\n",
    "upper_limit_eq = sample_mean + z * (sample_std / np.sqrt(n))\n",
    "\n",
    "print(f'The confidence interval of the average weather is between {lower_limit_eq} and {upper_limit_eq}')\n",
    "    # We are 95% confient that the true mean lies between the lower and upper limit\n",
    "    # 1: 11413, 2: 4544, 3: 1419 4: 3 ---> this shows that majority of the time, there is 'clear' weather"
   ]
  }
 ],
 "metadata": {
  "kernelspec": {
   "display_name": "Python 3 (ipykernel)",
   "language": "python",
   "name": "python3"
  },
  "language_info": {
   "codemirror_mode": {
    "name": "ipython",
    "version": 3
   },
   "file_extension": ".py",
   "mimetype": "text/x-python",
   "name": "python",
   "nbconvert_exporter": "python",
   "pygments_lexer": "ipython3",
   "version": "3.9.12"
  }
 },
 "nbformat": 4,
 "nbformat_minor": 5
}
